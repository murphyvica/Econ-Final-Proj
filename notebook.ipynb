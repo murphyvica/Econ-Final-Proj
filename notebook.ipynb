{
 "cells": [
  {
   "cell_type": "code",
   "execution_count": 22,
   "metadata": {},
   "outputs": [],
   "source": [
    "import numpy as np\n",
    "import pandas as pd\n",
    "\n",
    "seattle = pd.read_csv(\"City_zhvi_uc_sfr_tier_0.33_0.67_sm_sa_month.csv\")\n",
    "\n",
    "seattle = seattle[seattle.RegionName == \"Seattle\"]\n",
    "\n",
    "transform = seattle.drop(columns = seattle.columns[0:8])\n",
    "\n",
    "transposed = transform.T\n",
    "\n",
    "transposed = transposed.reset_index()\n",
    "\n",
    "transposed.columns = [\"Date\", \"Price\"]\n",
    "\n",
    "transposed.to_csv(\"Seattle.csv\", index=True)"
   ]
  }
 ],
 "metadata": {
  "kernelspec": {
   "display_name": "Python 3",
   "language": "python",
   "name": "python3"
  },
  "language_info": {
   "codemirror_mode": {
    "name": "ipython",
    "version": 3
   },
   "file_extension": ".py",
   "mimetype": "text/x-python",
   "name": "python",
   "nbconvert_exporter": "python",
   "pygments_lexer": "ipython3",
   "version": "3.11.9"
  }
 },
 "nbformat": 4,
 "nbformat_minor": 2
}
