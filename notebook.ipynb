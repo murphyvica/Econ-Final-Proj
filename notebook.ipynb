{
 "cells": [
  {
   "cell_type": "code",
   "execution_count": 1,
   "metadata": {},
   "outputs": [],
   "source": [
    "import numpy as np\n",
    "import pandas as pd\n",
    "\n",
    "wa = pd.read_csv(\"data\\State.csv\")\n",
    "\n",
    "wa = wa[wa.RegionName == \"Washington\" ]\n",
    "\n",
    "transform = wa.drop(columns = wa.columns[0:5])\n",
    "\n",
    "transposed = transform.T\n",
    "\n",
    "transposed = transposed.reset_index()\n",
    "\n",
    "transposed.columns = [\"Date\", \"Price\"]\n",
    "\n",
    "transposed.to_csv(\"data\\Washington.csv\", index=False)"
   ]
  },
  {
   "cell_type": "code",
   "execution_count": 17,
   "metadata": {},
   "outputs": [],
   "source": [
    "pop = pd.read_excel(\"data\\washington_pop.xlsx\", sheet_name=\"Annual % Change\", header=3)\n",
    "pop_state = pop[pop.County == \"State\"]\n",
    "\n",
    "pop_state.columns = pop_state.columns.str.replace('¹', '')\n",
    "\n",
    "last_years = [int(col.split()[-1].split('-')[-1]) for col in pop_state.columns[3:]]\n",
    "\n",
    "pop_state.columns = list(pop_state.columns[:3]) + last_years\n",
    "\n",
    "transform = pop_state.drop(columns = pop_state.columns[0:3])\n",
    "\n",
    "transposed = transform.T\n",
    "\n",
    "transposed = transposed.reset_index()\n",
    "\n",
    "transposed.columns = [\"DATE\", \"% Pop Growth\"]\n",
    "\n",
    "transposed.to_csv(\"data\\WA_pop.csv\", index=False)"
   ]
  },
  {
   "cell_type": "code",
   "execution_count": 19,
   "metadata": {},
   "outputs": [],
   "source": [
    "# Oregon\n",
    "\n",
    "ore = pd.read_csv(\"data\\State.csv\")\n",
    "\n",
    "ore = ore[ore.RegionName == \"Oregon\" ]\n",
    "\n",
    "transform = ore.drop(columns = ore.columns[0:5])\n",
    "\n",
    "transposed = transform.T\n",
    "\n",
    "transposed = transposed.reset_index()\n",
    "\n",
    "transposed.columns = [\"Date\", \"Price\"]\n",
    "\n",
    "transposed.to_csv(\"data\\oregon\\Oregon.csv\", index=False)"
   ]
  },
  {
   "cell_type": "code",
   "execution_count": 20,
   "metadata": {},
   "outputs": [],
   "source": [
    "# Cali\n",
    "\n",
    "ca = pd.read_csv(\"data\\State.csv\")\n",
    "\n",
    "ca = ca[ca.RegionName == \"California\" ]\n",
    "\n",
    "transform = ca.drop(columns = ca.columns[0:5])\n",
    "\n",
    "transposed = transform.T\n",
    "\n",
    "transposed = transposed.reset_index()\n",
    "\n",
    "transposed.columns = [\"Date\", \"Price\"]\n",
    "\n",
    "transposed.to_csv(\"data\\california\\California.csv\", index=False)"
   ]
  },
  {
   "cell_type": "code",
   "execution_count": 22,
   "metadata": {},
   "outputs": [],
   "source": [
    "# Florida\n",
    "\n",
    "ca = pd.read_csv(\"data\\State.csv\")\n",
    "\n",
    "ca = ca[ca.RegionName == \"Florida\" ]\n",
    "\n",
    "transform = ca.drop(columns = ca.columns[0:5])\n",
    "\n",
    "transposed = transform.T\n",
    "\n",
    "transposed = transposed.reset_index()\n",
    "\n",
    "transposed.columns = [\"Date\", \"Price\"]\n",
    "\n",
    "transposed.to_csv(\"data/florida\\Florida.csv\", index=False)"
   ]
  },
  {
   "cell_type": "code",
   "execution_count": 23,
   "metadata": {},
   "outputs": [],
   "source": [
    "# Texas\n",
    "\n",
    "tx = pd.read_csv(\"data\\State.csv\")\n",
    "\n",
    "tx = ca[ca.RegionName == \"Texas\" ]\n",
    "\n",
    "transform = ca.drop(columns = tx.columns[0:5])\n",
    "\n",
    "transposed = transform.T\n",
    "\n",
    "transposed = transposed.reset_index()\n",
    "\n",
    "transposed.columns = [\"Date\", \"Price\"]\n",
    "\n",
    "transposed.to_csv(\"data/texas\\Texas.csv\", index=False)"
   ]
  },
  {
   "cell_type": "code",
   "execution_count": null,
   "metadata": {},
   "outputs": [],
   "source": [
    "# Maryland\n",
    "\n",
    "tx = pd.read_csv(\"data\\State.csv\")\n",
    "\n",
    "tx = ca[ca.RegionName == \"Maryland\" ]\n",
    "\n",
    "transform = ca.drop(columns = tx.columns[0:5])\n",
    "\n",
    "transposed = transform.T\n",
    "\n",
    "transposed = transposed.reset_index()\n",
    "\n",
    "transposed.columns = [\"Date\", \"Price\"]\n",
    "\n",
    "transposed.to_csv(\"data\\maryland\\Maryland.csv\", index=False)"
   ]
  }
 ],
 "metadata": {
  "kernelspec": {
   "display_name": "Python 3",
   "language": "python",
   "name": "python3"
  },
  "language_info": {
   "codemirror_mode": {
    "name": "ipython",
    "version": 3
   },
   "file_extension": ".py",
   "mimetype": "text/x-python",
   "name": "python",
   "nbconvert_exporter": "python",
   "pygments_lexer": "ipython3",
   "version": "3.11.9"
  }
 },
 "nbformat": 4,
 "nbformat_minor": 2
}
