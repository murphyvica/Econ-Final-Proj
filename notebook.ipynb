{
 "cells": [
  {
   "cell_type": "code",
   "execution_count": 8,
   "metadata": {},
   "outputs": [],
   "source": [
    "import numpy as np\n",
    "import pandas as pd\n",
    "\n",
    "wa = pd.read_csv(\"data\\State.csv\")\n",
    "\n",
    "wa = wa[wa.RegionName == \"Washington\" ]\n",
    "\n",
    "wa = wa[wa.RegionName.isin([\"Washington\", \"Oregon\"])]\n",
    "\n",
    "transform = wa.drop(columns = wa.columns[0:5])\n",
    "\n",
    "transposed = transform.T\n",
    "\n",
    "transposed = transposed.reset_index()\n",
    "\n",
    "transposed.columns = [\"Date\", \"Price\"]\n",
    "\n",
    "transposed.to_csv(\"data\\Washington.csv\", index=False)"
   ]
  }
 ],
 "metadata": {
  "kernelspec": {
   "display_name": "Python 3",
   "language": "python",
   "name": "python3"
  },
  "language_info": {
   "codemirror_mode": {
    "name": "ipython",
    "version": 3
   },
   "file_extension": ".py",
   "mimetype": "text/x-python",
   "name": "python",
   "nbconvert_exporter": "python",
   "pygments_lexer": "ipython3",
   "version": "3.11.9"
  }
 },
 "nbformat": 4,
 "nbformat_minor": 2
}
