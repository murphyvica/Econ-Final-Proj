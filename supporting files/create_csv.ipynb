{
 "cells": [
  {
   "cell_type": "code",
   "execution_count": 17,
   "metadata": {},
   "outputs": [],
   "source": [
    "import numpy as np\n",
    "import pandas as pd\n",
    "\n",
    "pop = pd.read_excel(\"..\\data\\washington_pop.xlsx\", sheet_name=\"Annual % Change\", header=3)\n",
    "pop_state = pop[pop.County == \"State\"]\n",
    "\n",
    "pop_state.columns = pop_state.columns.str.replace('¹', '')\n",
    "\n",
    "last_years = [int(col.split()[-1].split('-')[-1]) for col in pop_state.columns[3:]]\n",
    "\n",
    "pop_state.columns = list(pop_state.columns[:3]) + last_years\n",
    "\n",
    "transform = pop_state.drop(columns = pop_state.columns[0:3])\n",
    "\n",
    "transposed = transform.T\n",
    "\n",
    "transposed = transposed.reset_index()\n",
    "\n",
    "transposed.columns = [\"DATE\", \"% Pop Growth\"]\n",
    "\n",
    "transposed.to_csv(\"..\\data\\washington\\WANGSP.csv\", index=False)"
   ]
  },
  {
   "cell_type": "code",
   "execution_count": 29,
   "metadata": {},
   "outputs": [],
   "source": [
    "abbreviation_to_name = {\"AL\": \"Alabama\",\"AR\": \"Arkansas\", \"AZ\": \"Arizona\",\"CA\": \"California\",\"CO\": \"Colorado\",\n",
    "    \"CT\": \"Connecticut\",\"DE\": \"Delaware\",\"FL\": \"Florida\",\"GA\": \"Georgia\",\"IA\": \"Iowa\",\"ID\": \"Idaho\",\"IL\": \"Illinois\",\n",
    "    \"IN\": \"Indiana\",\"KS\": \"Kansas\",\"KY\": \"Kentucky\",\"LA\": \"Louisiana\",\"MA\": \"Massachusetts\",\"MD\": \"Maryland\",\"ME\": \"Maine\",\n",
    "    \"MI\": \"Michigan\",\"MN\": \"Minnesota\",\"MO\": \"Missouri\",\"MS\": \"Mississippi\",\"MT\": \"Montana\",\"NC\": \"North Carolina\",\"ND\": \"North Dakota\",\n",
    "    \"NE\": \"Nebraska\",\"NH\": \"New Hampshire\",\"NJ\": \"New Jersey\",\"NM\": \"New Mexico\",\"NV\": \"Nevada\",\"NY\": \"New York\",\"OH\": \"Ohio\",\n",
    "    \"OK\": \"Oklahoma\",\"OR\": \"Oregon\",\"PA\": \"Pennsylvania\",\"RI\": \"Rhode Island\",\"SC\": \"South Carolina\",\"SD\": \"South Dakota\",\n",
    "    \"TN\": \"Tennessee\",\"TX\": \"Texas\",\"UT\": \"Utah\",\"VA\": \"Virginia\",\"VT\": \"Vermont\",\"WA\": \"Washington\",\"WI\": \"Wisconsin\",\n",
    "    \"WV\": \"West Virginia\",\"WY\": \"Wyoming\"}\n",
    "\n",
    "name_to_abbreviation = {v: k for k, v in abbreviation_to_name.items()}\n",
    "\n",
    "for state, abv in name_to_abbreviation.items():\n",
    "    state_lower = state.lower()\n",
    "\n",
    "    s = pd.read_csv(\"..\\data\\State.csv\")\n",
    "\n",
    "    s = s[s.RegionName == f\"{state}\" ]\n",
    "\n",
    "    transform = s.drop(columns = s.columns[0:5])\n",
    "\n",
    "    transposed = transform.T\n",
    "\n",
    "    transposed = transposed.reset_index()\n",
    "\n",
    "    transposed.columns = [\"Date\", \"Price\"]\n",
    "\n",
    "    transposed.to_csv(f\"..\\data\\{state_lower}\\{state}.csv\", index=False)"
   ]
  }
 ],
 "metadata": {
  "kernelspec": {
   "display_name": "Python 3",
   "language": "python",
   "name": "python3"
  },
  "language_info": {
   "codemirror_mode": {
    "name": "ipython",
    "version": 3
   },
   "file_extension": ".py",
   "mimetype": "text/x-python",
   "name": "python",
   "nbconvert_exporter": "python",
   "pygments_lexer": "ipython3",
   "version": "3.11.9"
  }
 },
 "nbformat": 4,
 "nbformat_minor": 2
}
